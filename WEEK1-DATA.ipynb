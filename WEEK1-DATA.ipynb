{
 "cells": [
  {
   "cell_type": "markdown",
   "metadata": {},
   "source": [
    "DATA COLLECTION\n",
    "\n",
    "Based on our problem, factors that will influence our decission are:\n",
    "* finding the safest borough based on crime statistics\n",
    "* finding the most common venues\n",
    "* choosing the right neighbourhood within the borough\n",
    "\n",
    "I will use the geographical coordinates of Vancouver to plot neighbourhoods in a borough that is safe, and finally cluster our neighborhoods and present our findings.\n",
    "\n",
    "Following data sources will be needed to extract/generate the required information:\n",
    "\n",
    "1:Vancouver Crimes from 2003 to 2019 https://www.kaggle.com/agilesifaka/vancouver-crime-report/version/2\n",
    "\n",
    "2:For another choice:https://raw.githubusercontent.com/RamanujaSVL/Coursera_Capstone/master/vancouver_crime_records_2018.csv\n",
    "\n",
    "3:List of neighbourhoods in Vancouver https://en.wikipedia.org/wiki/List_of_neighbourhoods_in_Vancouver"
   ]
  },
  {
   "cell_type": "code",
   "execution_count": null,
   "metadata": {},
   "outputs": [],
   "source": []
  },
  {
   "cell_type": "markdown",
   "metadata": {},
   "source": []
  }
 ],
 "metadata": {
  "kernelspec": {
   "display_name": "Python",
   "language": "python",
   "name": "conda-env-python-py"
  },
  "language_info": {
   "codemirror_mode": {
    "name": "ipython",
    "version": 3
   },
   "file_extension": ".py",
   "mimetype": "text/x-python",
   "name": "python",
   "nbconvert_exporter": "python",
   "pygments_lexer": "ipython3",
   "version": "3.6.11"
  }
 },
 "nbformat": 4,
 "nbformat_minor": 4
}
