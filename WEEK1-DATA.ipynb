{
 "cells": [
  {
   "cell_type": "markdown",
   "metadata": {},
   "source": [
    "# DATA COLLECTION\n",
    "\n",
    "Based on our problem, factors that will influence our decission are:\n",
    "* finding the safest borough based on crime statistics\n",
    "* finding the most common venues\n",
    "* choosing the right neighbourhood within the borough\n",
    "\n",
    "I will use the geographical coordinates of Vancouver to plot neighbourhoods in a borough that is safe, and finally cluster our neighborhoods and present our findings.\n",
    "\n",
    "Following data sources will be needed to extract/generate the required information:\n",
    "\n",
    "1:Vancouver Crimes from 2003 to 2019 https://www.kaggle.com/agilesifaka/vancouver-crime-report/version/2\n",
    "\n",
    "  A dataset consisting of the crime statistics of each Neighbourhoof in Vancouver along with type of crime, recorded year, month and hour.\n",
    "\n",
    "2:For another choice:https://raw.githubusercontent.com/RamanujaSVL/Coursera_Capstone/master/vancouver_crime_records_2018.csv\n",
    "\n",
    "3:List of neighbourhoods in Vancouver https://en.wikipedia.org/wiki/List_of_neighbourhoods_in_Vancouver\n",
    "  Additional information of the list of officially categorized boroughs in Vancouver from Wikipedia.\n",
    "  \n",
    "Next step is combining these data above to make a new dataset that can show the safest borough on a map with Folium.\n",
    "\n",
    "At last I will use Four Square API to explore the neighbourhood venues and try machine learning algorithm (like K-Cluster) to make sure the safest and best location for opening a new convenience store."
   ]
  }
 ],
 "metadata": {
  "kernelspec": {
   "display_name": "Python",
   "language": "python",
   "name": "conda-env-python-py"
  },
  "language_info": {
   "codemirror_mode": {
    "name": "ipython",
    "version": 3
   },
   "file_extension": ".py",
   "mimetype": "text/x-python",
   "name": "python",
   "nbconvert_exporter": "python",
   "pygments_lexer": "ipython3",
   "version": "3.6.11"
  }
 },
 "nbformat": 4,
 "nbformat_minor": 4
}
